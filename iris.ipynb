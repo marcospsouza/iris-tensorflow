{
 "metadata": {
  "language_info": {
   "codemirror_mode": {
    "name": "ipython",
    "version": 3
   },
   "file_extension": ".py",
   "mimetype": "text/x-python",
   "name": "python",
   "nbconvert_exporter": "python",
   "pygments_lexer": "ipython3",
   "version": "3.9.4"
  },
  "orig_nbformat": 2,
  "kernelspec": {
   "name": "python394jvsc74a57bd0104ab0b201326c003eb326b253436127765e9423f74595591084a446732f77fa",
   "display_name": "Python 3.9.4 64-bit"
  },
  "metadata": {
   "interpreter": {
    "hash": "104ab0b201326c003eb326b253436127765e9423f74595591084a446732f77fa"
   }
  }
 },
 "nbformat": 4,
 "nbformat_minor": 2,
 "cells": [
  {
   "source": [
    "Importing libs"
   ],
   "cell_type": "markdown",
   "metadata": {}
  },
  {
   "cell_type": "code",
   "execution_count": 14,
   "metadata": {},
   "outputs": [],
   "source": [
    "from sklearn import datasets\n",
    "from sklearn.preprocessing import OneHotEncoder\n",
    "from sklearn.model_selection import train_test_split\n",
    "from keras.models import Sequential\n",
    "from keras.layers import Dense"
   ]
  },
  {
   "source": [
    "Loading and processing the dataset"
   ],
   "cell_type": "markdown",
   "metadata": {}
  },
  {
   "cell_type": "code",
   "execution_count": 15,
   "metadata": {},
   "outputs": [],
   "source": [
    "iris_dataset = datasets.load_iris()\n",
    "\n",
    "X = iris_dataset.data[:, :]\n",
    "y = iris_dataset.target.reshape(-1, 1)\n",
    "\n",
    "encoder = OneHotEncoder(sparse = False)\n",
    "y = encoder.fit_transform(y)"
   ]
  },
  {
   "source": [
    "Splitting the dataset"
   ],
   "cell_type": "markdown",
   "metadata": {}
  },
  {
   "cell_type": "code",
   "execution_count": 16,
   "metadata": {},
   "outputs": [],
   "source": [
    "X_train, X_test, y_train, y_test = train_test_split(X, y, test_size = 0.2)"
   ]
  },
  {
   "source": [
    "Building and training the ANN"
   ],
   "cell_type": "markdown",
   "metadata": {}
  },
  {
   "cell_type": "code",
   "execution_count": 17,
   "metadata": {},
   "outputs": [
    {
     "output_type": "stream",
     "name": "stdout",
     "text": [
      "Epoch 1/50\n",
      "24/24 [==============================] - 8s 565us/step - loss: 1.2101 - accuracy: 0.2590\n",
      "Epoch 2/50\n",
      "24/24 [==============================] - 0s 609us/step - loss: 1.0156 - accuracy: 0.4357\n",
      "Epoch 3/50\n",
      "24/24 [==============================] - 0s 565us/step - loss: 0.8886 - accuracy: 0.6863\n",
      "Epoch 4/50\n",
      "24/24 [==============================] - 0s 609us/step - loss: 0.8405 - accuracy: 0.5927\n",
      "Epoch 5/50\n",
      "24/24 [==============================] - 0s 609us/step - loss: 0.7771 - accuracy: 0.6734\n",
      "Epoch 6/50\n",
      "24/24 [==============================] - 0s 609us/step - loss: 0.7514 - accuracy: 0.6244\n",
      "Epoch 7/50\n",
      "24/24 [==============================] - 0s 609us/step - loss: 0.6815 - accuracy: 0.6843\n",
      "Epoch 8/50\n",
      "24/24 [==============================] - 0s 565us/step - loss: 0.6598 - accuracy: 0.6782\n",
      "Epoch 9/50\n",
      "24/24 [==============================] - 0s 609us/step - loss: 0.6675 - accuracy: 0.6453\n",
      "Epoch 10/50\n",
      "24/24 [==============================] - 0s 609us/step - loss: 0.6501 - accuracy: 0.6381\n",
      "Epoch 11/50\n",
      "24/24 [==============================] - 0s 609us/step - loss: 0.6186 - accuracy: 0.7138\n",
      "Epoch 12/50\n",
      "24/24 [==============================] - 0s 609us/step - loss: 0.5721 - accuracy: 0.7269\n",
      "Epoch 13/50\n",
      "24/24 [==============================] - 0s 696us/step - loss: 0.6180 - accuracy: 0.6907\n",
      "Epoch 14/50\n",
      "24/24 [==============================] - 0s 644us/step - loss: 0.5653 - accuracy: 0.7029\n",
      "Epoch 15/50\n",
      "24/24 [==============================] - 0s 696us/step - loss: 0.5590 - accuracy: 0.7140\n",
      "Epoch 16/50\n",
      "24/24 [==============================] - 0s 696us/step - loss: 0.5560 - accuracy: 0.7030\n",
      "Epoch 17/50\n",
      "24/24 [==============================] - 0s 609us/step - loss: 0.5352 - accuracy: 0.8783\n",
      "Epoch 18/50\n",
      "24/24 [==============================] - 0s 609us/step - loss: 0.5869 - accuracy: 0.7015\n",
      "Epoch 19/50\n",
      "24/24 [==============================] - 0s 609us/step - loss: 0.5287 - accuracy: 0.8065\n",
      "Epoch 20/50\n",
      "24/24 [==============================] - 0s 565us/step - loss: 0.5453 - accuracy: 0.7839\n",
      "Epoch 21/50\n",
      "24/24 [==============================] - 0s 609us/step - loss: 0.4687 - accuracy: 0.8606\n",
      "Epoch 22/50\n",
      "24/24 [==============================] - 0s 652us/step - loss: 0.5168 - accuracy: 0.8394\n",
      "Epoch 23/50\n",
      "24/24 [==============================] - 0s 565us/step - loss: 0.5162 - accuracy: 0.8938\n",
      "Epoch 24/50\n",
      "24/24 [==============================] - 0s 609us/step - loss: 0.4923 - accuracy: 0.9061\n",
      "Epoch 25/50\n",
      "24/24 [==============================] - 0s 609us/step - loss: 0.4798 - accuracy: 0.9284\n",
      "Epoch 26/50\n",
      "24/24 [==============================] - 0s 522us/step - loss: 0.4509 - accuracy: 0.9498\n",
      "Epoch 27/50\n",
      "24/24 [==============================] - 0s 609us/step - loss: 0.5175 - accuracy: 0.9026\n",
      "Epoch 28/50\n",
      "24/24 [==============================] - 0s 522us/step - loss: 0.4352 - accuracy: 0.9402\n",
      "Epoch 29/50\n",
      "24/24 [==============================] - 0s 565us/step - loss: 0.4344 - accuracy: 0.9358\n",
      "Epoch 30/50\n",
      "24/24 [==============================] - 0s 609us/step - loss: 0.4671 - accuracy: 0.9299\n",
      "Epoch 31/50\n",
      "24/24 [==============================] - 0s 565us/step - loss: 0.4413 - accuracy: 0.9728\n",
      "Epoch 32/50\n",
      "24/24 [==============================] - 0s 565us/step - loss: 0.4148 - accuracy: 0.9481\n",
      "Epoch 33/50\n",
      "24/24 [==============================] - 0s 565us/step - loss: 0.4128 - accuracy: 0.9051\n",
      "Epoch 34/50\n",
      "24/24 [==============================] - 0s 565us/step - loss: 0.4462 - accuracy: 0.9440\n",
      "Epoch 35/50\n",
      "24/24 [==============================] - 0s 609us/step - loss: 0.4238 - accuracy: 0.9275\n",
      "Epoch 36/50\n",
      "24/24 [==============================] - 0s 565us/step - loss: 0.3951 - accuracy: 0.9514\n",
      "Epoch 37/50\n",
      "24/24 [==============================] - 0s 609us/step - loss: 0.3746 - accuracy: 0.9763\n",
      "Epoch 38/50\n",
      "24/24 [==============================] - 0s 565us/step - loss: 0.3719 - accuracy: 0.9670\n",
      "Epoch 39/50\n",
      "24/24 [==============================] - 0s 609us/step - loss: 0.3743 - accuracy: 0.9738\n",
      "Epoch 40/50\n",
      "24/24 [==============================] - 0s 609us/step - loss: 0.3578 - accuracy: 0.9888\n",
      "Epoch 41/50\n",
      "24/24 [==============================] - 0s 565us/step - loss: 0.4060 - accuracy: 0.9285\n",
      "Epoch 42/50\n",
      "24/24 [==============================] - 0s 565us/step - loss: 0.3532 - accuracy: 0.9658\n",
      "Epoch 43/50\n",
      "24/24 [==============================] - 0s 652us/step - loss: 0.3952 - accuracy: 0.9703\n",
      "Epoch 44/50\n",
      "24/24 [==============================] - 0s 652us/step - loss: 0.3673 - accuracy: 0.9476\n",
      "Epoch 45/50\n",
      "24/24 [==============================] - 0s 696us/step - loss: 0.3288 - accuracy: 0.9766\n",
      "Epoch 46/50\n",
      "24/24 [==============================] - 0s 696us/step - loss: 0.3352 - accuracy: 0.9715\n",
      "Epoch 47/50\n",
      "24/24 [==============================] - 0s 696us/step - loss: 0.3040 - accuracy: 0.9555\n",
      "Epoch 48/50\n",
      "24/24 [==============================] - 0s 652us/step - loss: 0.3504 - accuracy: 0.9523\n",
      "Epoch 49/50\n",
      "24/24 [==============================] - 0s 652us/step - loss: 0.3293 - accuracy: 0.9416\n",
      "Epoch 50/50\n",
      "24/24 [==============================] - 0s 652us/step - loss: 0.3461 - accuracy: 0.9389\n"
     ]
    },
    {
     "output_type": "execute_result",
     "data": {
      "text/plain": [
       "<keras.callbacks.History at 0x232105dc430>"
      ]
     },
     "metadata": {},
     "execution_count": 17
    }
   ],
   "source": [
    "ann = Sequential()\n",
    "ann.add(Dense(4, activation = 'relu', input_shape = (4,)))\n",
    "ann.add(Dense(3, activation = 'softmax')) # output layer\n",
    "\n",
    "ann.compile(optimizer = 'adam', loss = 'categorical_crossentropy', metrics = ['accuracy'])\n",
    "ann.fit(X_train, y_train, batch_size = 5, epochs = 50)"
   ]
  },
  {
   "source": [
    "Evaluating the ANN"
   ],
   "cell_type": "markdown",
   "metadata": {}
  },
  {
   "cell_type": "code",
   "execution_count": 18,
   "metadata": {},
   "outputs": [
    {
     "output_type": "stream",
     "name": "stdout",
     "text": [
      "1/1 [==============================] - 0s 357ms/step - loss: 0.2642 - accuracy: 0.9667\n",
      "Accuracy:  0.9666666388511658\n"
     ]
    }
   ],
   "source": [
    "test_results = ann.evaluate(X_test, y_test)\n",
    "\n",
    "print('Accuracy: ', test_results[1])"
   ]
  }
 ]
}